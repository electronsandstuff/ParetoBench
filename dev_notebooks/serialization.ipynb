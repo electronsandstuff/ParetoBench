{
 "cells": [
  {
   "cell_type": "markdown",
   "metadata": {},
   "source": [
    "# Exploring Serialization\n",
    "This notebook prints the serialized form of each problem to make sure everything looks appropriate."
   ]
  },
  {
   "cell_type": "code",
   "execution_count": 1,
   "metadata": {},
   "outputs": [],
   "source": [
    "import paretobench as pb"
   ]
  },
  {
   "cell_type": "code",
   "execution_count": 2,
   "metadata": {},
   "outputs": [
    {
     "name": "stdout",
     "output_type": "stream",
     "text": [
      "DTLZ1 (m=3, n=10)\n",
      "DTLZ2 (m=3, n=10)\n",
      "DTLZ3 (m=3, n=10)\n",
      "DTLZ4 (m=3, n=10, alpha=100)\n",
      "DTLZ5 (m=3, n=10)\n",
      "DTLZ6 (m=3, n=10)\n",
      "DTLZ7 (m=3, n=10)\n",
      "DTLZ8 (m=3, n=10)\n",
      "DTLZ9 (m=3, n=10)\n",
      "ZDT1 (n=30)\n",
      "ZDT2 (n=30)\n",
      "ZDT3 (n=30)\n",
      "ZDT4 (n=10)\n",
      "ZDT6 (n=10)\n",
      "WFG1 (n=24, k=4, m=2)\n",
      "WFG2 (n=24, k=4, m=2)\n",
      "WFG3 (n=24, k=4, m=2)\n",
      "WFG4 (n=24, k=4, m=2)\n",
      "WFG5 (n=24, k=4, m=2)\n",
      "WFG6 (n=24, k=4, m=2)\n",
      "WFG7 (n=24, k=4, m=2)\n",
      "WFG8 (n=24, k=4, m=2)\n",
      "WFG9 (n=24, k=4, m=2)\n",
      "SCH\n",
      "FON\n",
      "POL\n",
      "KUR (n=3)\n",
      "CONSTR\n",
      "SRN\n",
      "TNK\n",
      "WATER\n",
      "CTP1 (n=5, j=2)\n",
      "CTP2 (n=5)\n",
      "CTP3 (n=5)\n",
      "CTP4 (n=5)\n",
      "CTP5 (n=5)\n",
      "CTP6 (n=5)\n",
      "CTP7 (n=5)\n",
      "CF1 (n=10, nn=10, a=1.0)\n",
      "CF2 (n=10, nn=2, a=1.0)\n",
      "CF3 (n=10, nn=2, a=1.0)\n",
      "CF4 (n=10)\n",
      "CF5 (n=10)\n",
      "CF6 (n=10)\n",
      "CF7 (n=10)\n",
      "CF8 (n=10, nn=2, a=4.0)\n",
      "CF9 (n=10, nn=2, a=3.0)\n",
      "CF10 (n=10, nn=2, a=1.0)\n"
     ]
    }
   ],
   "source": [
    "for name in pb.get_problem_names():\n",
    "    print(pb.create_problem(name).to_line())"
   ]
  }
 ],
 "metadata": {
  "kernelspec": {
   "display_name": "paretobench",
   "language": "python",
   "name": "python3"
  },
  "language_info": {
   "codemirror_mode": {
    "name": "ipython",
    "version": 3
   },
   "file_extension": ".py",
   "mimetype": "text/x-python",
   "name": "python",
   "nbconvert_exporter": "python",
   "pygments_lexer": "ipython3",
   "version": "3.12.1"
  }
 },
 "nbformat": 4,
 "nbformat_minor": 2
}
