{
 "cells": [
  {
   "cell_type": "markdown",
   "metadata": {},
   "source": [
    "# Analysis of Inverse Generational Distance\n",
    "This notebook demonstrates how optimization algorithm benchmarking data can be loaded from disk, metrics (such as inverse generational distance) can be calculated for all reported populations, and the resulting data analyzed for comparisons between experiements. We demonstrate the process by comparing three algorithms against eachother on a single test problem. The resulting comparisons are displayed and it is shown how the table can be exported to latex for publication."
   ]
  },
  {
   "cell_type": "code",
   "execution_count": 1,
   "metadata": {},
   "outputs": [],
   "source": [
    "import paretobench as pb"
   ]
  },
  {
   "cell_type": "code",
   "execution_count": 2,
   "metadata": {},
   "outputs": [
    {
     "name": "stdout",
     "output_type": "stream",
     "text": [
      "CPU times: total: 93.8 ms\n",
      "Wall time: 5.9 s\n"
     ]
    },
    {
     "data": {
      "text/html": [
       "<div>\n",
       "<style scoped>\n",
       "    .dataframe tbody tr th:only-of-type {\n",
       "        vertical-align: middle;\n",
       "    }\n",
       "\n",
       "    .dataframe tbody tr th {\n",
       "        vertical-align: top;\n",
       "    }\n",
       "\n",
       "    .dataframe thead th {\n",
       "        text-align: right;\n",
       "    }\n",
       "</style>\n",
       "<table border=\"1\" class=\"dataframe\">\n",
       "  <thead>\n",
       "    <tr style=\"text-align: right;\">\n",
       "      <th></th>\n",
       "      <th>problem</th>\n",
       "      <th>fevals</th>\n",
       "      <th>run_idx</th>\n",
       "      <th>pop_idx</th>\n",
       "      <th>igd</th>\n",
       "      <th>exp_name</th>\n",
       "      <th>exp_idx</th>\n",
       "      <th>fname</th>\n",
       "    </tr>\n",
       "  </thead>\n",
       "  <tbody>\n",
       "    <tr>\n",
       "      <th>0</th>\n",
       "      <td>WFG1 (m=2,n=16,k=2)</td>\n",
       "      <td>20</td>\n",
       "      <td>0</td>\n",
       "      <td>0</td>\n",
       "      <td>2.207231</td>\n",
       "      <td>NSGA-II</td>\n",
       "      <td>0</td>\n",
       "      <td>data/NSGAII.h5</td>\n",
       "    </tr>\n",
       "    <tr>\n",
       "      <th>1</th>\n",
       "      <td>WFG1 (m=2,n=16,k=2)</td>\n",
       "      <td>40</td>\n",
       "      <td>0</td>\n",
       "      <td>1</td>\n",
       "      <td>1.545975</td>\n",
       "      <td>NSGA-II</td>\n",
       "      <td>0</td>\n",
       "      <td>data/NSGAII.h5</td>\n",
       "    </tr>\n",
       "    <tr>\n",
       "      <th>2</th>\n",
       "      <td>WFG1 (m=2,n=16,k=2)</td>\n",
       "      <td>60</td>\n",
       "      <td>0</td>\n",
       "      <td>2</td>\n",
       "      <td>1.530251</td>\n",
       "      <td>NSGA-II</td>\n",
       "      <td>0</td>\n",
       "      <td>data/NSGAII.h5</td>\n",
       "    </tr>\n",
       "    <tr>\n",
       "      <th>3</th>\n",
       "      <td>WFG1 (m=2,n=16,k=2)</td>\n",
       "      <td>80</td>\n",
       "      <td>0</td>\n",
       "      <td>3</td>\n",
       "      <td>1.529974</td>\n",
       "      <td>NSGA-II</td>\n",
       "      <td>0</td>\n",
       "      <td>data/NSGAII.h5</td>\n",
       "    </tr>\n",
       "    <tr>\n",
       "      <th>4</th>\n",
       "      <td>WFG1 (m=2,n=16,k=2)</td>\n",
       "      <td>100</td>\n",
       "      <td>0</td>\n",
       "      <td>4</td>\n",
       "      <td>1.528507</td>\n",
       "      <td>NSGA-II</td>\n",
       "      <td>0</td>\n",
       "      <td>data/NSGAII.h5</td>\n",
       "    </tr>\n",
       "  </tbody>\n",
       "</table>\n",
       "</div>"
      ],
      "text/plain": [
       "               problem  fevals  run_idx  pop_idx       igd exp_name  exp_idx  \\\n",
       "0  WFG1 (m=2,n=16,k=2)      20        0        0  2.207231  NSGA-II        0   \n",
       "1  WFG1 (m=2,n=16,k=2)      40        0        1  1.545975  NSGA-II        0   \n",
       "2  WFG1 (m=2,n=16,k=2)      60        0        2  1.530251  NSGA-II        0   \n",
       "3  WFG1 (m=2,n=16,k=2)      80        0        3  1.529974  NSGA-II        0   \n",
       "4  WFG1 (m=2,n=16,k=2)     100        0        4  1.528507  NSGA-II        0   \n",
       "\n",
       "            fname  \n",
       "0  data/NSGAII.h5  \n",
       "1  data/NSGAII.h5  \n",
       "2  data/NSGAII.h5  \n",
       "3  data/NSGAII.h5  \n",
       "4  data/NSGAII.h5  "
      ]
     },
     "execution_count": 2,
     "metadata": {},
     "output_type": "execute_result"
    }
   ],
   "source": [
    "%%time\n",
    "# Evaluate the IGD metric on all populations stored in three saved experiments\n",
    "df = pb.eval_metrics_experiments(\n",
    "    ['data/NSGAII.h5', 'data/CPSMOEA.h5', 'data/ParEGO.h5'], \n",
    "    {'igd': pb.InverseGenerationalDistance()}, \n",
    "    n_procs=8\n",
    ")\n",
    "df.head()"
   ]
  },
  {
   "cell_type": "code",
   "execution_count": 3,
   "metadata": {},
   "outputs": [
    {
     "name": "stderr",
     "output_type": "stream",
     "text": [
      "C:\\Users\\chris\\ParetoBench\\src\\paretobench\\analyze_metrics.py:145: SmallSampleWarning: One or more sample arguments is too small; all returned values will be NaN. See documentation for sample size requirements.\n",
      "  if ranksums(x.to_numpy(), y.to_numpy(), 'less')[1] < wilcoxon_p:\n",
      "C:\\Users\\chris\\ParetoBench\\src\\paretobench\\analyze_metrics.py:147: SmallSampleWarning: One or more sample arguments is too small; all returned values will be NaN. See documentation for sample size requirements.\n",
      "  if ranksums(x.to_numpy(), y.to_numpy(), 'greater')[1] < wilcoxon_p:\n"
     ]
    },
    {
     "data": {
      "text/html": [
       "<div>\n",
       "<style scoped>\n",
       "    .dataframe tbody tr th:only-of-type {\n",
       "        vertical-align: middle;\n",
       "    }\n",
       "\n",
       "    .dataframe tbody tr th {\n",
       "        vertical-align: top;\n",
       "    }\n",
       "\n",
       "    .dataframe thead th {\n",
       "        text-align: right;\n",
       "    }\n",
       "</style>\n",
       "<table border=\"1\" class=\"dataframe\">\n",
       "  <thead>\n",
       "    <tr style=\"text-align: right;\">\n",
       "      <th></th>\n",
       "      <th></th>\n",
       "      <th>CPS-MOEA</th>\n",
       "      <th>NSGA-II</th>\n",
       "      <th>ParEGO</th>\n",
       "    </tr>\n",
       "    <tr>\n",
       "      <th>Problem</th>\n",
       "      <th>n</th>\n",
       "      <th></th>\n",
       "      <th></th>\n",
       "      <th></th>\n",
       "    </tr>\n",
       "  </thead>\n",
       "  <tbody>\n",
       "    <tr>\n",
       "      <th rowspan=\"3\" valign=\"top\">WFG1</th>\n",
       "      <th>16</th>\n",
       "      <td>1.366e+0 (1.491e-2) -</td>\n",
       "      <td>1.582e+0 (3.386e-1) -</td>\n",
       "      <td>\\cellbold 1.382e+0 (1.597e-1)</td>\n",
       "    </tr>\n",
       "    <tr>\n",
       "      <th>32</th>\n",
       "      <td>1.371e+0 (1.284e-2) -</td>\n",
       "      <td>1.572e+0 (3.089e-1) -</td>\n",
       "      <td>\\cellbold 1.348e+0 (1.023e-1)</td>\n",
       "    </tr>\n",
       "    <tr>\n",
       "      <th>64</th>\n",
       "      <td>\\cellbold 1.379e+0 (1.039e-2) =</td>\n",
       "      <td>1.494e+0 (2.471e-1) =</td>\n",
       "      <td>-</td>\n",
       "    </tr>\n",
       "  </tbody>\n",
       "</table>\n",
       "</div>"
      ],
      "text/plain": [
       "                                   CPS-MOEA                NSGA-II  \\\n",
       "Problem n                                                            \n",
       "WFG1    16            1.366e+0 (1.491e-2) -  1.582e+0 (3.386e-1) -   \n",
       "        32            1.371e+0 (1.284e-2) -  1.572e+0 (3.089e-1) -   \n",
       "        64  \\cellbold 1.379e+0 (1.039e-2) =  1.494e+0 (2.471e-1) =   \n",
       "\n",
       "                                   ParEGO  \n",
       "Problem n                                  \n",
       "WFG1    16  \\cellbold 1.382e+0 (1.597e-1)  \n",
       "        32  \\cellbold 1.348e+0 (1.023e-1)  \n",
       "        64                              -  "
      ]
     },
     "execution_count": 3,
     "metadata": {},
     "output_type": "execute_result"
    }
   ],
   "source": [
    "# Calculate aggregate statistics of the metric on each history object including individuals up until a budget of `max_feval` \n",
    "# function evaluations has been exceeded. Use the Wilcoxon rank sum test to compare algorithms against ParEGO.\n",
    "dfa = pb.aggregate_metrics_feval_budget(df, max_feval=300, wilcoxon_idx=2)\n",
    "\n",
    "# Turn the aggregate stats into a table comparing metric values for each problem between algorithms.\n",
    "dfc = pb.construct_metric_comparison_table(\n",
    "    dfa, \n",
    "    problem_params='n',\n",
    "    mean_fmt_kwargs={'precision': 3, 'exp_digits': 1}, \n",
    "    std_fmt_kwargs={'precision': 3, 'exp_digits': 1}\n",
    ")\n",
    "dfc"
   ]
  },
  {
   "cell_type": "code",
   "execution_count": 4,
   "metadata": {},
   "outputs": [
    {
     "name": "stdout",
     "output_type": "stream",
     "text": [
      "\\begin{tabular}{lllll}\n",
      "\\toprule\n",
      "\\multicolumn{1}{c}{\\textbf{Problem }} &\\multicolumn{1}{c}{\\textbf{ n }}  &  \\multicolumn{1}{c}{\\textbf{ CPS-MOEA }}&  \\multicolumn{1}{c}{\\textbf{ NSGA-II }}&  \\multicolumn{1}{c}{\\textbf{ ParEGO }}\\\\\n",
      "\\midrule\n",
      "\\multirow{3}{*}{WFG1} & 16 & 1.366e+0 (1.491e-2) - & 1.582e+0 (3.386e-1) - & \\cellbold 1.382e+0 (1.597e-1) \\\\\n",
      " & 32 & 1.371e+0 (1.284e-2) - & 1.572e+0 (3.089e-1) - & \\cellbold 1.348e+0 (1.023e-1) \\\\\n",
      " & 64 & \\cellbold 1.379e+0 (1.039e-2) $\\approx$ & 1.494e+0 (2.471e-1) $\\approx$ & - \\\\\n",
      "\\cline{1-5}\n",
      " \\multicolumn{2}{c}{+/-/$\\approx$} & \\multicolumn{1}{c}{0/2/1} & \\multicolumn{1}{c}{0/2/1} & \\\\\n",
      "\\bottomrule\n",
      "\\end{tabular}\n",
      "\n"
     ]
    },
    {
     "name": "stderr",
     "output_type": "stream",
     "text": [
      "C:\\Users\\chris\\ParetoBench\\src\\paretobench\\analyze_metrics.py:438: FutureWarning: DataFrame.applymap has been deprecated. Use DataFrame.map instead.\n",
      "  comparisons = df.applymap(lambda x: (x[-1] if len(x) > 4 else '')).apply(pd.Series.value_counts).fillna(0)\n"
     ]
    }
   ],
   "source": [
    "# Demonstrate printing to latex\n",
    "print(pb.comparison_table_to_latex(dfc))"
   ]
  },
  {
   "cell_type": "code",
   "execution_count": null,
   "metadata": {},
   "outputs": [],
   "source": []
  }
 ],
 "metadata": {
  "kernelspec": {
   "display_name": "Python 3",
   "language": "python",
   "name": "python3"
  },
  "language_info": {
   "codemirror_mode": {
    "name": "ipython",
    "version": 3
   },
   "file_extension": ".py",
   "mimetype": "text/x-python",
   "name": "python",
   "nbconvert_exporter": "python",
   "pygments_lexer": "ipython3",
   "version": "3.12.5"
  }
 },
 "nbformat": 4,
 "nbformat_minor": 2
}
