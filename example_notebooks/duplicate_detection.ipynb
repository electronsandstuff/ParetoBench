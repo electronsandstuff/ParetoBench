{
 "cells": [
  {
   "cell_type": "markdown",
   "metadata": {},
   "source": [
    "# Duplicate Individual Detection\n",
    "This notebook demonstrates the use of the method `Population.get_num_unique()` to help detect when populations have duplicate individuals. This method uses `np.round` to deal with floating point accuracy issues."
   ]
  },
  {
   "cell_type": "code",
   "execution_count": 1,
   "metadata": {},
   "outputs": [],
   "source": [
    "import paretobench as pb\n",
    "import numpy as np"
   ]
  },
  {
   "cell_type": "code",
   "execution_count": 2,
   "metadata": {},
   "outputs": [
    {
     "name": "stdout",
     "output_type": "stream",
     "text": [
      "Number of individuals: 6\n",
      "Number of unique individuals: 3\n"
     ]
    }
   ],
   "source": [
    "# Create a population with exact duplicates and calculate the number of unique individuals\n",
    "pop = pb.Population(f=np.array([[1, 2, 3], [1, 2, 3], [1, 2, 3], [2, 3, 4], [3, 4, 5], [1, 2, 3]], dtype=float))\n",
    "print(f\"Number of individuals: {len(pop)}\")\n",
    "print(f\"Number of unique individuals: {pop.count_unique_individuals()}\")"
   ]
  },
  {
   "cell_type": "code",
   "execution_count": 3,
   "metadata": {},
   "outputs": [
    {
     "name": "stdout",
     "output_type": "stream",
     "text": [
      "Number of individuals: 6\n",
      "Number of unique individuals: 3\n"
     ]
    }
   ],
   "source": [
    "# Create some individuals with noise in the last few digits\n",
    "pop = pb.Population(\n",
    "    f=np.array(\n",
    "        [\n",
    "            [1 + 1e-14, 2, 3],\n",
    "            [1 + 2e-14, 2, 3],\n",
    "            [1 + 3e-14, 2, 3],\n",
    "            [1 + 4e-14, 2, 3],\n",
    "            [2, 3, 4],\n",
    "            [3, 4, 5],\n",
    "        ],\n",
    "        dtype=float,\n",
    "    )\n",
    ")\n",
    "print(f\"Number of individuals: {len(pop)}\")\n",
    "print(f\"Number of unique individuals: {pop.count_unique_individuals()}\")"
   ]
  },
  {
   "cell_type": "code",
   "execution_count": null,
   "metadata": {},
   "outputs": [],
   "source": []
  }
 ],
 "metadata": {
  "kernelspec": {
   "display_name": "Python 3",
   "language": "python",
   "name": "python3"
  },
  "language_info": {
   "codemirror_mode": {
    "name": "ipython",
    "version": 3
   },
   "file_extension": ".py",
   "mimetype": "text/x-python",
   "name": "python",
   "nbconvert_exporter": "python",
   "pygments_lexer": "ipython3",
   "version": "3.12.5"
  }
 },
 "nbformat": 4,
 "nbformat_minor": 2
}
