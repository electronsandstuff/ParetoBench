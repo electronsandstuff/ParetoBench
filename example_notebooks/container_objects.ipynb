{
 "cells": [
  {
   "cell_type": "markdown",
   "metadata": {},
   "source": [
    "# ParetoBench Container Objects\n",
    "Some objects are included in ParetoBench to enable users to manipulate and save data related to multi-objective optimizations. We use this notebook to explain some of their usage."
   ]
  },
  {
   "cell_type": "code",
   "execution_count": 1,
   "metadata": {},
   "outputs": [],
   "source": [
    "import os\n",
    "import paretobench as pb\n",
    "import tempfile"
   ]
  },
  {
   "cell_type": "markdown",
   "metadata": {},
   "source": [
    "### `Population` Objects\n",
    "The basic building block of optimization data is a `Population` which is supposed to represent the population of individuals in a single generation of a genetic algorithm. The populations contain the decision variables and the values of the objectives and constraints. All of these are 2D numpy arrays with the first dimension being the batch dimension and having a length equal to the population size. This is true even in the case of not having any constraints (for instance) where the second dimension is set to length zero. It also contains a place to hold the number of function evaluations performed up until this point for use in analyzing performance."
   ]
  },
  {
   "cell_type": "code",
   "execution_count": 2,
   "metadata": {},
   "outputs": [
    {
     "name": "stdout",
     "output_type": "stream",
     "text": [
      "Decision variables: (32, 10)\n",
      "Objectives: (32, 2)\n",
      "Constraints: (32, 0)\n",
      "Function evaluations: 0\n"
     ]
    }
   ],
   "source": [
    "# Create an example population\n",
    "pop = pb.Population.from_random(\n",
    "    n_objectives=2,\n",
    "    n_decision_vars=10,\n",
    "    n_constraints=0,\n",
    "    pop_size=32\n",
    ")\n",
    "\n",
    "# Examine some of the parameters\n",
    "print(f'Decision variables: {pop.x.shape}')\n",
    "print(f'Objectives: {pop.f.shape}')\n",
    "print(f'Constraints: {pop.g.shape}')\n",
    "print(f'Function evaluations: {pop.fevals}')"
   ]
  },
  {
   "cell_type": "markdown",
   "metadata": {},
   "source": [
    "Population objects can also store names associated with the decision variables, objectives, and constraints. This is useful for practical optimization problems."
   ]
  },
  {
   "cell_type": "code",
   "execution_count": 3,
   "metadata": {},
   "outputs": [],
   "source": [
    "# Set naems of the decision variables, objectives, and constraints\n",
    "pop.names_x = [f'Decision var {idx}' for idx in range(pop.x.shape[1])]\n",
    "pop.names_f = ['Objective 1', 'Objective 2']\n",
    "pop.names_g = []"
   ]
  },
  {
   "cell_type": "markdown",
   "metadata": {},
   "source": [
    "### `History` Objects\n",
    "Multiple populations are combined together into a `History` object that represents the history of an optimization algorithm solving a problem. Each of the reports will typically be a single generation within ghte genetic algorithm. The history object also holds a location for a problem name which is being solved."
   ]
  },
  {
   "cell_type": "code",
   "execution_count": 4,
   "metadata": {},
   "outputs": [
    {
     "name": "stdout",
     "output_type": "stream",
     "text": [
      "Problem: WFG1 (n=10)\n",
      "Number of reports: 15\n"
     ]
    }
   ],
   "source": [
    "# Create an example history object\n",
    "hist = pb.History.from_random(\n",
    "    n_populations=15,\n",
    "    n_objectives=2,\n",
    "    n_decision_vars=10,\n",
    "    n_constraints=0,\n",
    "    pop_size=32\n",
    ")\n",
    "hist.problem = 'WFG1 (n=10)'\n",
    "\n",
    "# Print some of the properties\n",
    "print(f'Problem: {hist.problem}')\n",
    "print(f'Number of reports: {len(hist.reports)}')"
   ]
  },
  {
   "cell_type": "markdown",
   "metadata": {},
   "source": [
    "### `Experiment` Objects\n",
    "Finally, everything comes together in the `Experiment` object which represents a user potentially performing several optimizations on a benchmark problem for one algorithm and one set of hyperparameters for that algorithm. These objects are saveable in an HDF5 file and also contain useful metadata for describing the experiment and how it was made."
   ]
  },
  {
   "cell_type": "code",
   "execution_count": 5,
   "metadata": {},
   "outputs": [
    {
     "name": "stdout",
     "output_type": "stream",
     "text": [
      "Number of histories: 32\n",
      "Name: NSGA-II (default params)\n",
      "Creation time: 2024-12-10 04:47:30.124790+00:00\n"
     ]
    }
   ],
   "source": [
    "# Create some random history objects to store\n",
    "runs = []\n",
    "for _ in range(32):\n",
    "    runs.append(pb.History.from_random(\n",
    "        n_populations=15, \n",
    "        n_objectives=2, \n",
    "        n_decision_vars=10, \n",
    "        n_constraints=0, \n",
    "        pop_size=32\n",
    "    ))\n",
    "\n",
    "# Create an example experiment\n",
    "exp = pb.Experiment(\n",
    "    runs=runs,  # The history objects in this experiment\n",
    "    name=\"NSGA-II (default params)\",  # A name for this experiment (for example, the algorithm and parameters used)\n",
    "    author=\"The author of ParetoBench\",  # Who created this\n",
    "    software='ParetoBench example notebook',  # What software created this object\n",
    "    software_version='1.0.0',\n",
    "    comment=\"An example of an experiment object\"\n",
    ")\n",
    "\n",
    "# Let's save the object to disk (we will use a temp. directory to not pollute your computer :) )\n",
    "with tempfile.TemporaryDirectory() as dir:\n",
    "    # The filename we'll use\n",
    "    fname = os.path.join(dir, \"my_experiment.h5\")\n",
    "    \n",
    "    # Save to disk\n",
    "    exp.save(fname)\n",
    "    \n",
    "    # Load it back in\n",
    "    exp_loaded = pb.Experiment.load(fname)\n",
    "\n",
    "# Check out the loaded object\n",
    "print(f'Number of histories: {len(exp_loaded.runs)}')\n",
    "print(f\"Name: {exp_loaded.name}\")\n",
    "print(f\"Creation time: {exp_loaded.creation_time}\")  # A UTC timestamp is added on object creation"
   ]
  },
  {
   "cell_type": "code",
   "execution_count": null,
   "metadata": {},
   "outputs": [],
   "source": []
  }
 ],
 "metadata": {
  "kernelspec": {
   "display_name": "Python 3",
   "language": "python",
   "name": "python3"
  },
  "language_info": {
   "codemirror_mode": {
    "name": "ipython",
    "version": 3
   },
   "file_extension": ".py",
   "mimetype": "text/x-python",
   "name": "python",
   "nbconvert_exporter": "python",
   "pygments_lexer": "ipython3",
   "version": "3.12.5"
  }
 },
 "nbformat": 4,
 "nbformat_minor": 2
}
