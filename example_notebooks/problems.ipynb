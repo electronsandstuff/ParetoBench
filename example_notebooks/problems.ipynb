{
 "cells": [
  {
   "cell_type": "markdown",
   "metadata": {},
   "source": [
    "# Usage of `Problem` Objects\n",
    "This notebook demonstrates the usage of the ParetoBench `Problem` objects which implement common multi-objective benchmark problems in a convient vectorized format."
   ]
  },
  {
   "cell_type": "code",
   "execution_count": 1,
   "metadata": {},
   "outputs": [],
   "source": [
    "import numpy as np\n",
    "import matplotlib.pyplot as plt\n",
    "\n",
    "import paretobench as pb"
   ]
  },
  {
   "cell_type": "markdown",
   "metadata": {},
   "source": [
    "### Creation of Problem Objects\n",
    "There are two main ways of instantiating problems in ParetoBench.\n",
    "1) You can always use the classes themselves. These are exported from the main ParetoBench import and implement all parameters as arguments to `__init__` staying as close as possible to the notation used in their original publications. The number of objectives and numbr of decision variables are always called `m` and `n` when user-settable.\n",
    "2) A more flexible way of creating problems is through `Problem.from_line_fmt(...)` which instantiates a problem from a \"single line format\" representing the problem. This is just the problem name followed by its parameters in in parenthesis. For example `WFG1 (m=2, k=4, n=24)` or `ZDT1 (n=30)`. You don't need to specify all (or any) or the parameters. For example `WFG1 (m=3)` and `ZDT` are still valid and will use default values for the parameters. Instantiation from single line format allows easy creation of problems from configuration files."
   ]
  },
  {
   "cell_type": "code",
   "execution_count": 9,
   "metadata": {},
   "outputs": [
    {
     "name": "stdout",
     "output_type": "stream",
     "text": [
      "From __init__ method:  n=30\n",
      "Another __init__ method example:  n=24 k=2 m=2\n",
      "From single line format:  n=30\n",
      "Another single line format example:  n=24 k=2 m=2\n",
      "Using all default arguments:  n=30\n",
      "Using some default arguments:  n=32 k=4 m=2\n"
     ]
    }
   ],
   "source": [
    "# Create an example problem objects\n",
    "prob = pb.ZDT1(n=30)\n",
    "print(\"From __init__ method: \", prob)\n",
    "\n",
    "# Make another one\n",
    "prob = pb.WFG1(n=24, m=2, k=2)\n",
    "print(\"Another __init__ method example: \", prob)\n",
    "\n",
    "# Let's try using the single line format\n",
    "prob = pb.Problem.from_line_fmt('ZDT1 (n=30)')\n",
    "print(\"From single line format: \", prob)\n",
    "\n",
    "# And another one\n",
    "prob = pb.Problem.from_line_fmt('WFG1 (n=24, m=2, k=2)')\n",
    "print(\"Another single line format example: \", prob)\n",
    "\n",
    "# Let's try leaving out parameters\n",
    "prob = pb.Problem.from_line_fmt('ZDT1')\n",
    "print(\"Using all default arguments: \", prob)\n",
    "\n",
    "# One final example\n",
    "prob = pb.Problem.from_line_fmt('WFG1 (n=32)')\n",
    "print(\"Using some default arguments: \", prob)"
   ]
  },
  {
   "cell_type": "markdown",
   "metadata": {},
   "source": [
    "### Properties of `Problem` Objects\n",
    "The problem objects come with many properties that describe their inputs / outputs or information related to them. We inspect some of these in the following section."
   ]
  },
  {
   "cell_type": "code",
   "execution_count": 18,
   "metadata": {},
   "outputs": [
    {
     "name": "stdout",
     "output_type": "stream",
     "text": [
      "Using problem n=10 a=1.0 b=10\n",
      "\n",
      "Reference:\n",
      "Zhang, Q., Zhou, A., Zhao, S., Suganthan, P. N., Liu, W., & Tiwari, S. (2009). Multiobjective optimization Test Instances for the CEC 2009 Special Session and Competition. 31.\n",
      "\n",
      "Problem has 10 decision variables:\n",
      "  var[0] range: [0.000, 1.000]\n",
      "  var[1] range: [0.000, 1.000]\n",
      "  var[2] range: [0.000, 1.000]\n",
      "  var[3] range: [0.000, 1.000]\n",
      "  var[4] range: [0.000, 1.000]\n",
      "  var[5] range: [0.000, 1.000]\n",
      "  var[6] range: [0.000, 1.000]\n",
      "  var[7] range: [0.000, 1.000]\n",
      "  var[8] range: [0.000, 1.000]\n",
      "  var[9] range: [0.000, 1.000]\n",
      "\n",
      "Number of objectives: 2\n",
      "Number of constraints: 1\n"
     ]
    }
   ],
   "source": [
    "# Get a problem to examine\n",
    "prob = pb.Problem.from_line_fmt('CF1')\n",
    "print(f'Using problem {prob}')\n",
    "\n",
    "# Problems (usually) come with references\n",
    "print()\n",
    "print('Reference:')\n",
    "print(prob.reference)\n",
    "\n",
    "# Look at the decision variables (prob.n)\n",
    "print()\n",
    "print(f\"Problem has {prob.n} decision variables:\")\n",
    "for idx, (lb, ub) in enumerate(zip(prob.var_lower_bounds, prob.var_upper_bounds)):\n",
    "    print(f'  var[{idx}] range: [{lb:.3f}, {ub:.3f}]')\n",
    "\n",
    "# Look at the outputs\n",
    "print()\n",
    "print(f'Number of objectives: {prob.m}')\n",
    "print(f'Number of constraints: {prob.n_constraints}')"
   ]
  },
  {
   "cell_type": "markdown",
   "metadata": {},
   "source": [
    "### Evaluating the Problem's Objectives and Constraints\n",
    "All of the problem objects are callable and accept numpy arrays with the first index being the batch index. The problems return `Population` objects which contain the decision variables, the objectives, and constraints."
   ]
  },
  {
   "cell_type": "code",
   "execution_count": 30,
   "metadata": {},
   "outputs": [
    {
     "name": "stdout",
     "output_type": "stream",
     "text": [
      "Decision variables:\n",
      "[[0.24052317 0.89789801 0.69387601 0.65555773]\n",
      " [0.56395808 0.72976521 0.83718739 0.82344964]\n",
      " [0.29161201 0.71915058 0.53583554 0.35890943]\n",
      " [0.68724901 0.92566296 0.35476785 0.10527279]]\n",
      "\n",
      "Objectives:\n",
      "[[0.79268844 1.28275855]\n",
      " [0.80681961 0.69192172]\n",
      " [0.49839199 0.81548474]\n",
      " [0.83409885 0.45681098]]\n",
      "\n",
      "Constraints:\n",
      "[[ 0.76852576]\n",
      " [ 0.04761135]\n",
      " [-0.19767038]\n",
      " [-0.36359117]]\n"
     ]
    }
   ],
   "source": [
    "# Create our test problem\n",
    "prob = pb.Problem.from_line_fmt('CF1 (n=4)')\n",
    "\n",
    "# Use the decision var bounds to create a set of random inputs to run on\n",
    "n_samp = 4\n",
    "x = np.vstack([np.random.uniform(lb, ub, n_samp) for lb, ub in zip(prob.var_lower_bounds, prob.var_upper_bounds)]).T\n",
    "\n",
    "# Evaluate the objectives and constraints\n",
    "result = prob(x)\n",
    "print('Decision variables:')\n",
    "print(result.x)\n",
    "print()\n",
    "print('Objectives:')\n",
    "print(result.f)\n",
    "print()\n",
    "print(\"Constraints:\")\n",
    "print(result.g)\n"
   ]
  },
  {
   "cell_type": "markdown",
   "metadata": {},
   "source": [
    "### Analytic Pareto Fronts\n",
    "Some of the test problems come with analytic Pareto fronts. These are useful for the evaluating convergence of optimization algorithms under test. In this notebook, we demonstrate how to query points from the Pareto fronts. Problems which can return points from the Pareto front inherit from `ProblemWithPF` and problems with a fixed number of points on the Pareto front inherit from `ProblemWithFixedPF`."
   ]
  },
  {
   "cell_type": "code",
   "execution_count": 43,
   "metadata": {},
   "outputs": [
    {
     "name": "stdout",
     "output_type": "stream",
     "text": [
      "Has analytic Pareto front:  True\n"
     ]
    },
    {
     "data": {
      "text/plain": [
       "Text(0.5, 1.0, 'n=30')"
      ]
     },
     "execution_count": 43,
     "metadata": {},
     "output_type": "execute_result"
    },
    {
     "data": {
      "image/png": "[encoded data removed]",
      "text/plain": [
       "<Figure size 640x480 with 1 Axes>"
      ]
     },
     "metadata": {},
     "output_type": "display_data"
    }
   ],
   "source": [
    "# Create a problem\n",
    "prob = pb.Problem.from_line_fmt('ZDT3')\n",
    "print(\"Has analytic Pareto front: \", isinstance(prob, pb.ProblemWithPF))\n",
    "\n",
    "# Get the values for the objectives of points along the PF and plot them\n",
    "f = prob.get_pareto_front(n=1000)\n",
    "plt.scatter(f[:, 0], f[:, 1], s=1.25)\n",
    "plt.xlabel('$f_1$')\n",
    "plt.ylabel('$f_2$')\n",
    "plt.title(prob)"
   ]
  },
  {
   "cell_type": "code",
   "execution_count": 45,
   "metadata": {},
   "outputs": [
    {
     "name": "stdout",
     "output_type": "stream",
     "text": [
      "Has analytic Pareto front:  True\n"
     ]
    },
    {
     "data": {
      "text/plain": [
       "Text(0.5, 1.0, 'n=10 a=1.0 b=10')"
      ]
     },
     "execution_count": 45,
     "metadata": {},
     "output_type": "execute_result"
    },
    {
     "data": {
      "image/png": "[encoded data removed]",
      "text/plain": [
       "<Figure size 640x480 with 1 Axes>"
      ]
     },
     "metadata": {},
     "output_type": "display_data"
    }
   ],
   "source": [
    "# Let's do it again, but for a problem with a fixed PF\n",
    "prob = pb.Problem.from_line_fmt('CF1')\n",
    "print(\"Has analytic Pareto front: \", isinstance(prob, pb.ProblemWithFixedPF))\n",
    "\n",
    "# Get the values for the objectives of points along the PF and plot them\n",
    "f = prob.get_pareto_front()\n",
    "plt.scatter(f[:, 0], f[:, 1], s=1.25)\n",
    "plt.xlabel('$f_1$')\n",
    "plt.ylabel('$f_2$')\n",
    "plt.title(prob)"
   ]
  }
 ],
 "metadata": {
  "kernelspec": {
   "display_name": "Python 3",
   "language": "python",
   "name": "python3"
  },
  "language_info": {
   "codemirror_mode": {
    "name": "ipython",
    "version": 3
   },
   "file_extension": ".py",
   "mimetype": "text/x-python",
   "name": "python",
   "nbconvert_exporter": "python",
   "pygments_lexer": "ipython3",
   "version": "3.12.5"
  }
 },
 "nbformat": 4,
 "nbformat_minor": 2
}
